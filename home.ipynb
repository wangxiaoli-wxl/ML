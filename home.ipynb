{
 "cells": [
  {
   "cell_type": "code",
   "execution_count": 1,
   "metadata": {},
   "outputs": [],
   "source": [
    "def wxl(name):\n",
    "    print('hello',name)\n",
    "    return 'ok'"
   ]
  },
  {
   "cell_type": "code",
   "execution_count": 2,
   "metadata": {},
   "outputs": [
    {
     "name": "stdout",
     "output_type": "stream",
     "text": [
      "hello very\n"
     ]
    },
    {
     "data": {
      "text/plain": [
       "'ok'"
      ]
     },
     "execution_count": 2,
     "metadata": {},
     "output_type": "execute_result"
    }
   ],
   "source": [
    "wxl('very')"
   ]
  },
  {
   "cell_type": "code",
   "execution_count": 4,
   "metadata": {},
   "outputs": [],
   "source": [
    "def KNN(test_samples,k):\n",
    "    \n",
    "    import numpy as test_samples\n",
    "    data = test_samples.array([[3,104],\n",
    "           [2,100],\n",
    "           [1,81],\n",
    "           [99,5],\n",
    "           [99,2]])\n",
    "    dianying = test_samples.array([[18,90]])\n",
    "    distance = data - dianying\n",
    "    square = test_samples.power(distance,2)\n",
    "    sum_= test_samples.sum(square,axis=1)\n",
    "    sqrt = test_samples.sqrt(sum_)\n",
    "    sort_ = test_samples.sort(sqrt)\n",
    "    sort_[0:3]\n",
    "    print(sort_)"
   ]
  },
  {
   "cell_type": "code",
   "execution_count": null,
   "metadata": {},
   "outputs": [],
   "source": []
  }
 ],
 "metadata": {
  "kernelspec": {
   "display_name": "Python 3",
   "language": "python",
   "name": "python3"
  },
  "language_info": {
   "codemirror_mode": {
    "name": "ipython",
    "version": 3
   },
   "file_extension": ".py",
   "mimetype": "text/x-python",
   "name": "python",
   "nbconvert_exporter": "python",
   "pygments_lexer": "ipython3",
   "version": "3.7.3"
  }
 },
 "nbformat": 4,
 "nbformat_minor": 2
}
